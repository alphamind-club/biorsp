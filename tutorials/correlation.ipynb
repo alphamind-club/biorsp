{
 "cells": [
  {
   "cell_type": "markdown",
   "metadata": {},
   "source": [
    "# Correlation analysis\n",
    "\n",
    "This notebook demonstrates how to calculate the correlation between two RSP profiles."
   ]
  },
  {
   "cell_type": "code",
   "execution_count": 144,
   "metadata": {},
   "outputs": [],
   "source": [
    "import numpy as np\n",
    "import pandas as pd\n",
    "import matplotlib.pyplot as plt\n",
    "\n",
    "from ipynb.fs.full.biorsp import (\n",
    "    find_foreground_background_points,\n",
    "    calculate_differences,\n",
    "    convert_to_polar,\n",
    ")"
   ]
  },
  {
   "cell_type": "code",
   "execution_count": 145,
   "metadata": {},
   "outputs": [],
   "source": [
    "dge_matrix = pd.read_csv(\"data/MCA2_filtered.dge.txt\", sep=\"\\t\", index_col=0)\n",
    "tsne_results = pd.read_csv(\"embeddings/tsne_results.csv\").to_numpy()\n",
    "dbscan_results = pd.read_csv(\"embeddings/tsne_dbscan_results.csv\")"
   ]
  },
  {
   "cell_type": "code",
   "execution_count": 146,
   "metadata": {},
   "outputs": [],
   "source": [
    "gene_name_1 = \"Tnnt2\"  # Change this to your first gene of interest\n",
    "gene_name_2 = \"Actc1\"  # Change this to your second gene of interest\n",
    "threshold = 1  # Define the threshold for foreground points\n",
    "clusters = [1]  # Define the clusters to be considered as foreground\n",
    "\n",
    "# bioRSP-specific parameters\n",
    "scanning_window = np.pi\n",
    "resolution = 1000\n",
    "angle_range = np.array([0, 2 * np.pi])\n",
    "mode = \"absolute\""
   ]
  },
  {
   "cell_type": "code",
   "execution_count": 147,
   "metadata": {},
   "outputs": [],
   "source": [
    "# Extract foreground and background points for the first gene\n",
    "foreground_points_1, background_points = find_foreground_background_points(\n",
    "    gene_name=gene_name_1,\n",
    "    dge_matrix=dge_matrix,\n",
    "    tsne_results=tsne_results,\n",
    "    threshold=threshold,\n",
    "    dbscan_df=dbscan_results,\n",
    "    selected_clusters=clusters,\n",
    ")\n",
    "\n",
    "# Extract foreground and background points for the second gene\n",
    "# Background points for the second gene are the same as the first gene\n",
    "foreground_points_2, _ = find_foreground_background_points(\n",
    "    gene_name=gene_name_2,\n",
    "    dge_matrix=dge_matrix,\n",
    "    tsne_results=tsne_results,\n",
    "    threshold=threshold,\n",
    "    dbscan_df=dbscan_results,\n",
    "    selected_clusters=clusters,\n",
    ")"
   ]
  },
  {
   "cell_type": "code",
   "execution_count": 148,
   "metadata": {},
   "outputs": [],
   "source": [
    "# Calculate vantage points\n",
    "vantage_point = background_points.mean(axis=0)"
   ]
  },
  {
   "cell_type": "code",
   "execution_count": 149,
   "metadata": {},
   "outputs": [],
   "source": [
    "# Convert to polar coordinates\n",
    "fg_r_1, fg_theta_1 = convert_to_polar(foreground_points_1, vantage_point)\n",
    "fg_r_2, fg_theta_2 = convert_to_polar(foreground_points_2, vantage_point)\n",
    "bg_r, bg_theta = convert_to_polar(background_points, vantage_point)"
   ]
  },
  {
   "cell_type": "code",
   "execution_count": null,
   "metadata": {},
   "outputs": [],
   "source": [
    "# Calculate RSP differences for each gene\n",
    "coverage = len(foreground_points_1) / len(background_points)\n",
    "print(f\"Coverage: {coverage}\")\n",
    "\n",
    "differences_1 = calculate_differences(\n",
    "    foreground_points=foreground_points_1,\n",
    "    background_points=background_points,\n",
    "    scanning_window=scanning_window,\n",
    "    resolution=resolution,\n",
    "    vantage_point=vantage_point,\n",
    "    angle_range=angle_range,\n",
    "    mode=mode,\n",
    ")\n",
    "\n",
    "coverage = len(foreground_points_2) / len(background_points)\n",
    "print(f\"Coverage: {coverage}\")\n",
    "\n",
    "differences_2 = calculate_differences(\n",
    "    foreground_points=foreground_points_2,\n",
    "    background_points=background_points,\n",
    "    scanning_window=scanning_window,\n",
    "    resolution=resolution,\n",
    "    vantage_point=vantage_point,\n",
    "    angle_range=angle_range,\n",
    "    mode=mode,\n",
    ")"
   ]
  },
  {
   "cell_type": "code",
   "execution_count": null,
   "metadata": {},
   "outputs": [],
   "source": [
    "# Plot RSP curves for both genes on the same graph\n",
    "plt.figure(figsize=(8, 6))\n",
    "plt.subplot(polar=True)\n",
    "\n",
    "plt.plot(\n",
    "    np.linspace(0, 2 * np.pi, 1000),\n",
    "    differences_1,\n",
    "    color=\"green\",\n",
    "    label=f\"{gene_name_1} RSP\",\n",
    "    alpha=0.8,\n",
    ")\n",
    "plt.plot(\n",
    "    np.linspace(0, 2 * np.pi, 1000),\n",
    "    differences_2,\n",
    "    color=\"blue\",\n",
    "    label=f\"{gene_name_2} RSP\",\n",
    "    alpha=0.8,\n",
    ")\n",
    "\n",
    "# plt.ylim(0, 1)\n",
    "plt.legend()\n",
    "plt.title(f\"RSP Comparison of {gene_name_1} and {gene_name_2}\")\n",
    "plt.show()"
   ]
  }
 ],
 "metadata": {
  "kernelspec": {
   "display_name": ".venv",
   "language": "python",
   "name": "python3"
  },
  "language_info": {
   "codemirror_mode": {
    "name": "ipython",
    "version": 3
   },
   "file_extension": ".py",
   "mimetype": "text/x-python",
   "name": "python",
   "nbconvert_exporter": "python",
   "pygments_lexer": "ipython3",
   "version": "3.10.9"
  }
 },
 "nbformat": 4,
 "nbformat_minor": 2
}
